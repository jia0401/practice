{
 "cells": [
  {
   "cell_type": "code",
   "execution_count": 1,
   "metadata": {},
   "outputs": [],
   "source": [
    "import numpy as np\n",
    "import math"
   ]
  },
  {
   "cell_type": "code",
   "execution_count": 2,
   "metadata": {},
   "outputs": [],
   "source": [
    "class equation():\n",
    "    \n",
    "\n",
    "    def __init__(self,A):\n",
    "        self.A=A;\n",
    "    \n",
    "    def com_b(self,i):\n",
    "        h=i;\n",
    "        max=i;\n",
    "        while (i<3):\n",
    "            if(abs(self.A[i][h])>abs(self.A[max][h])):\n",
    "                max=i;\n",
    "            i=i+1;\n",
    "        return ;\n",
    "\n",
    "    def subtract(self):\n",
    "        times=0;\n",
    "        while(times<3):\n",
    "            self.com_b(times)\n",
    "            i=times+1;\n",
    "            while(i<3):\n",
    "                tmp=-self.A[i,times]/self.A[times,times];\n",
    "                self.A[i]=self.A[i]+self.A[times]*tmp;\n",
    "                i=i+1;\n",
    "            times=times+1;\n",
    "        return ;\n",
    "\n",
    "    def get_result(self):\n",
    "        b=np.zeros((1,3),dtype=float);\n",
    "        b[0,2]=self.A[2,3]/self.A[2,2];\n",
    "        b[0,1]=(self.A[1,3]-self.A[1,2]*b[0,2])/self.A[1,1];\n",
    "        b[0,0]=(self.A[0,3]-self.A[0,1]*b[0,1]-self.A[0,2]*b[0,2])/self.A[0,0];\n",
    "        return b;\n",
    "        \n"
   ]
  },
  {
   "cell_type": "code",
   "execution_count": 3,
   "metadata": {},
   "outputs": [
    {
     "name": "stdout",
     "output_type": "stream",
     "text": [
      "-0.0000\n",
      "-1.0000\n",
      "1.0000\n"
     ]
    }
   ],
   "source": [
    "A=np.array([[-3,2,6,4],[10,-7,0,7],[5,-1,5,6]],dtype=float);\n",
    "m=equation(A);\n",
    "m.subtract()\n",
    "result=m.get_result();\n",
    "for i in range(3):\n",
    "    print('%.4f' %result[0,i])"
   ]
  }
 ],
 "metadata": {
  "kernelspec": {
   "display_name": "Python 3.9.12 ('base')",
   "language": "python",
   "name": "python3"
  },
  "language_info": {
   "codemirror_mode": {
    "name": "ipython",
    "version": 3
   },
   "file_extension": ".py",
   "mimetype": "text/x-python",
   "name": "python",
   "nbconvert_exporter": "python",
   "pygments_lexer": "ipython3",
   "version": "3.9.12"
  },
  "orig_nbformat": 4,
  "vscode": {
   "interpreter": {
    "hash": "cdb02796ba88d060504593de6b1e9eae5cc190423fa6e760b9863025de09cb4a"
   }
  }
 },
 "nbformat": 4,
 "nbformat_minor": 2
}
