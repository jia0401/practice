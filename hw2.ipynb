{
 "cells": [
  {
   "cell_type": "code",
   "execution_count": 1,
   "metadata": {},
   "outputs": [],
   "source": [
    "import numpy as np"
   ]
  },
  {
   "cell_type": "code",
   "execution_count": 11,
   "metadata": {},
   "outputs": [],
   "source": [
    "class equation():\n",
    "    def __init__(self,A,D,b) :\n",
    "        self.A=A;\n",
    "        self.D=D;\n",
    "        self.b=b;\n",
    "    \n",
    "    def get_BF(self):\n",
    "        B=np.eye(3,3)-np.linalg.inv(self.D).dot(self.A);\n",
    "        F=np.linalg.inv(self.D).dot(self.b);\n",
    "        return B,F;\n",
    "\n",
    "    def get_x(self,B,F):\n",
    "        x=np.zeros((3,1),dtype=float);\n",
    "        pre_x=x;\n",
    "        x=B.dot(x)+F;\n",
    "        print(x.round(4))\n",
    "        while(np.max(abs(x-pre_x))>0.0001):\n",
    "            pre_x=x;\n",
    "            x=B.dot(x)+F;\n",
    "            print(x.round(4))\n"
   ]
  },
  {
   "cell_type": "code",
   "execution_count": 12,
   "metadata": {},
   "outputs": [
    {
     "name": "stdout",
     "output_type": "stream",
     "text": [
      "[[-2.4]\n",
      " [ 5. ]\n",
      " [ 0.3]]\n",
      "[[-4.46]\n",
      " [ 4.25]\n",
      " [ 2.28]]\n",
      "[[-4.556]\n",
      " [ 2.745]\n",
      " [ 2.467]]\n",
      "[[-3.9914]\n",
      " [ 2.6275]\n",
      " [ 2.0347]]\n",
      "[[-3.8579]\n",
      " [ 2.9848]\n",
      " [ 1.8865]]\n",
      "[[-3.9712]\n",
      " [ 3.0922]\n",
      " [ 1.967 ]]\n",
      "[[-4.0303]\n",
      " [ 3.0237]\n",
      " [ 2.0219]]\n",
      "[[-4.0139]\n",
      " [ 2.9815]\n",
      " [ 2.0132]]\n",
      "[[-3.9952]\n",
      " [ 2.99  ]\n",
      " [ 1.9972]]\n",
      "[[-3.9954]\n",
      " [ 3.0026]\n",
      " [ 1.996 ]]\n",
      "[[-4.0002]\n",
      " [ 3.0031]\n",
      " [ 1.9999]]\n",
      "[[-4.0012]\n",
      " [ 3.    ]\n",
      " [ 2.001 ]]\n",
      "[[-4.0002]\n",
      " [ 2.9992]\n",
      " [ 2.0002]]\n",
      "[[-3.9997]\n",
      " [ 2.9998]\n",
      " [ 1.9998]]\n",
      "[[-3.9999]\n",
      " [ 3.0002]\n",
      " [ 1.9999]]\n",
      "[[-4.    ]\n",
      " [ 3.0001]\n",
      " [ 2.    ]]\n",
      "[[-4.]\n",
      " [ 3.]\n",
      " [ 2.]]\n",
      "[[-4.]\n",
      " [ 3.]\n",
      " [ 2.]]\n"
     ]
    }
   ],
   "source": [
    "A=np.array([[5,2,1],[-1,4,2],[2,-3,10]],dtype=float);\n",
    "D=np.array([[5,0,0],[0,4,0],[0,0,10]],dtype=float);\n",
    "b=np.array([[-12],[20],[3]],dtype=float);\n",
    "n=equation(A,D,b);\n",
    "B,F=n.get_BF()\n",
    "n.get_x(B,F)"
   ]
  }
 ],
 "metadata": {
  "kernelspec": {
   "display_name": "Python 3.9.12 ('base')",
   "language": "python",
   "name": "python3"
  },
  "language_info": {
   "codemirror_mode": {
    "name": "ipython",
    "version": 3
   },
   "file_extension": ".py",
   "mimetype": "text/x-python",
   "name": "python",
   "nbconvert_exporter": "python",
   "pygments_lexer": "ipython3",
   "version": "3.9.12"
  },
  "orig_nbformat": 4,
  "vscode": {
   "interpreter": {
    "hash": "cdb02796ba88d060504593de6b1e9eae5cc190423fa6e760b9863025de09cb4a"
   }
  }
 },
 "nbformat": 4,
 "nbformat_minor": 2
}
